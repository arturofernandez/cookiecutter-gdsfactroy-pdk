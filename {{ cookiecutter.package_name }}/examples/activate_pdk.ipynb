{
 "cells": [
  {
   "cell_type": "code",
   "execution_count": null,
   "metadata": {},
   "outputs": [],
   "source": [
    "import gdsfactory as gf\n",
    "import sys\n",
    "# setting path\n",
    "sys.path.append('../')\n",
    "\n",
    "import {{cookiecutter.pdk_name}}\n",
    "\n",
    "gf.clear_cache()\n",
    "\n",
    "gf.config.rich_output()\n",
    "gf.CONF.display_type = 'klayout'\n",
    "\n",
    "nm = 1e-3\n",
    "mm = 1e3\n",
    "\n",
    "c = gf.Component(\"{{cookiecutter.pdk_name}}_test.gds\")\n",
    "\n",
    "die = {{cookiecutter.pdk_name}}.components.die(\n",
    "        size=(13000, 3000),  # Size of die\n",
    "        street_width=100,    # Width of corner marks for die-sawing\n",
    "        street_length=1000,  # Length of corner marks for die-sawing\n",
    "        die_name=\"chip99\",   # Label text\n",
    "        text_size=500,       # Label text size\n",
    "        text_location=\"SW\",  # Label text compass location e.g. 'S', 'SE', 'SW'\n",
    "        layer={{cookiecutter.pdk_name}}.LAYER.WG,\n",
    "        bbox_layer={{cookiecutter.pdk_name}}.LAYER.WG,\n",
    "    )\n",
    "\n",
    "wafer_dies = c << die\n",
    "\n",
    "c.show()"
   ]
  }
 ],
 "metadata": {
  "kernelspec": {
   "display_name": "pic311",
   "language": "python",
   "name": "python3"
  },
  "language_info": {
   "codemirror_mode": {
    "name": "ipython",
    "version": 3
   },
   "file_extension": ".py",
   "mimetype": "text/x-python",
   "name": "python",
   "nbconvert_exporter": "python",
   "pygments_lexer": "ipython3",
   "version": "3.11.4"
  },
  "orig_nbformat": 4
 },
 "nbformat": 4,
 "nbformat_minor": 2
}
